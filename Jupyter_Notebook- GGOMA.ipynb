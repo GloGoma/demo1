{
 "cells": [
  {
   "cell_type": "markdown",
   "metadata": {},
   "source": [
    "<center>\n",
    "    <img src=\"https://cf-courses-data.s3.us.cloud-object-storage.appdomain.cloud/IBMDeveloperSkillsNetwork-DS0105EN-SkillsNetwork/labs/Module2/images/SN_web_lightmode.png\" width=\"300\" alt=\"cognitiveclass.ai logo\"  />\n",
    "</center>\n"
   ]
  },
  {
   "cell_type": "markdown",
   "metadata": {},
   "source": [
    "#### Add your code below following the instructions given in the course\n"
   ]
  },
  {
   "cell_type": "markdown",
   "metadata": {},
   "source": [
    "# My Jupyter Notebook on IBM Watson Studio"
   ]
  },
  {
   "cell_type": "markdown",
   "metadata": {},
   "source": [
    "**Glody GOMA**\n",
    "\n",
    "I'm a software engineering by my background and now working on banking solution as product owner"
   ]
  },
  {
   "cell_type": "markdown",
   "metadata": {},
   "source": [
    "*I am interested in data science because I love analytics and bringing out insights from data*"
   ]
  },
  {
   "cell_type": "markdown",
   "metadata": {},
   "source": [
    "### The code below compares two predefined values and determines the greatest"
   ]
  },
  {
   "cell_type": "code",
   "execution_count": 3,
   "metadata": {},
   "outputs": [
    {
     "name": "stdout",
     "output_type": "stream",
     "text": [
      "8 is the greatest\n"
     ]
    }
   ],
   "source": [
    "a = 8\n",
    "b = 5\n",
    "\n",
    "if (a> b):\n",
    "    print( a, \"is the greatest\")\n",
    "elif (a< b):    \n",
    "    print( b, \"is the greatest\")\n",
    "else:\n",
    "    print( a, \"is equal to\", b)"
   ]
  },
  {
   "cell_type": "markdown",
   "metadata": {},
   "source": [
    "***\n",
    "\n",
    "**Below some programming languages for Data Science**\n",
    "\n",
    "* Python\n",
    "* R Language\n",
    "* Scala\n",
    "\n",
    "---\n",
    "\n",
    "**Listing some http error codes**\n",
    "\n",
    "%%html\n",
    "<style>\n",
    "|Code|Description|\n",
    "|---|---|\n",
    "|400|`Bad request`|\n",
    "|404|~~Unauthorized~~|\n",
    "|401|Not Found|\n",
    "</style>\n",
    "\n",
    "\n"
   ]
  },
  {
   "cell_type": "code",
   "execution_count": null,
   "metadata": {},
   "outputs": [],
   "source": []
  }
 ],
 "metadata": {
  "kernelspec": {
   "display_name": "Python",
   "language": "python",
   "name": "conda-env-python-py"
  },
  "language_info": {
   "codemirror_mode": {
    "name": "ipython",
    "version": 3
   },
   "file_extension": ".py",
   "mimetype": "text/x-python",
   "name": "python",
   "nbconvert_exporter": "python",
   "pygments_lexer": "ipython3",
   "version": "3.7.12"
  }
 },
 "nbformat": 4,
 "nbformat_minor": 4
}
